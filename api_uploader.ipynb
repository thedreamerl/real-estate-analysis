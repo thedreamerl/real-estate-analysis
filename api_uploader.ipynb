{
 "cells": [
  {
   "cell_type": "code",
   "execution_count": 1,
   "metadata": {},
   "outputs": [],
   "source": [
    "import requests as requests\n",
    "import urllib.parse\n",
    "import json\n",
    "import pandas as pd\n",
    "import numpy as np\n",
    "import time\n",
    "from datetime import datetime\n",
    "from datetime import timedelta"
   ]
  },
  {
   "cell_type": "code",
   "execution_count": 2,
   "metadata": {},
   "outputs": [],
   "source": [
    "# param_1945 - кол-во комнат\n",
    "# param_1957 - вторичка/новостройка\n",
    "# param_2009 - тип дома\n",
    "# param_2113 - этаж\n",
    "# param_2213 - этажей в доме\n",
    "# param_2313 - Площадь\n",
    "# param_2314 - Адрес\n",
    "# param_12721 - Площадь кухни, м²\n",
    "# param_12722 - Жилая площадь, м²\n",
    "\n",
    "cols = ['id','price','time','metro','address','room_quantity', 'new_old', 'house_type', 'floor_number', \n",
    "        'floor_quantity', 'space', 'kitchen_space', 'living_space','coords']\n",
    "\n",
    "keys = ['id','price','time','metro','address','param_1945', 'param_1957', 'param_2009', 'param_2113', \n",
    "        'param_2213', 'param_2313', 'param_12721', 'param_12722','coords']\n",
    "\n",
    "parameters = {'user' : 'polykova.olga98@gmail.com', 'token' : 'ec81436bf58a4b578bace05a0c28b381',\n",
    "              'category_id' : 2,\n",
    "              'nedvigimost_type' : 1,\n",
    "              'city' : 'Москва',\n",
    "              'date1' : '2018-04-01'}"
   ]
  },
  {
   "cell_type": "code",
   "execution_count": 13,
   "metadata": {},
   "outputs": [
    {
     "name": "stdout",
     "output_type": "stream",
     "text": [
      "Starting downloading dataset...\n",
      "........................................................................................................................................................................................................................................................Finished!\n",
      "Dataset length: 152318\n"
     ]
    }
   ],
   "source": [
    "earl_time = '2018-05-15'\n",
    "flag = 0\n",
    "print('Starting downloading dataset...')\n",
    "while True:\n",
    "    parameters['date2'] = earl_time\n",
    "    response = requests.get('http://ads-api.ru/main/api?'+urllib.parse.urlencode(parameters))\n",
    "    result = json.loads(response.content)['data']\n",
    "    data = list()\n",
    "    for r in result:\n",
    "        temp = list()\n",
    "        for i in range(len(cols)):\n",
    "            if keys[i] in r.keys() : temp.append(r[keys[i]])\n",
    "            else : temp.append(np.nan)\n",
    "        data.append(temp) \n",
    "    if flag == 0:\n",
    "        flag = 1\n",
    "        dataset = pd.DataFrame(columns = cols, data = data)\n",
    "    else:\n",
    "        dataset2 = pd.DataFrame(columns = cols, data = data)\n",
    "        dataset = pd.concat([dataset,dataset2], ignore_index = True)\n",
    "    prev_time = earl_time\n",
    "    earl_time = dataset.loc[len(dataset)-1,'time']\n",
    "    if earl_time == prev_time : \n",
    "        earl_time = (datetime.strptime(earl_time,'%Y-%m-%d %H:%M:%S')-timedelta(0,1)).strftime('%Y-%m-%d %H:%M:%S')\n",
    "    if len(result) < 50: break\n",
    "    print('.',end='')\n",
    "    time.sleep(5)\n",
    "print('Finished!')\n",
    "print('Dataset length: '+str(len(dataset)))"
   ]
  },
  {
   "cell_type": "code",
   "execution_count": 17,
   "metadata": {},
   "outputs": [],
   "source": [
    "dataset['lang'] = dataset.coords.apply(lambda x: x['lng'])\n",
    "dataset['lat'] = dataset.coords.apply(lambda x: x['lat'])\n",
    "dataset = dataset.drop(['coords'], axis = 1)"
   ]
  },
  {
   "cell_type": "code",
   "execution_count": 21,
   "metadata": {},
   "outputs": [
    {
     "name": "stdout",
     "output_type": "stream",
     "text": [
      "Длина датасета после удаления дубликатов:  136383\n"
     ]
    }
   ],
   "source": [
    "dataset=dataset.drop_duplicates(keep='first')\n",
    "dataset=dataset.drop_duplicates(keep='first', subset = ['price','metro','address','room_quantity', 'new_old','house_type', \n",
    "                                                        'floor_number', 'floor_quantity', 'space', 'kitchen_space', \n",
    "                                                        'living_space'])\n",
    "print('Длина датасета после удаления дубликатов: ', len(dataset))"
   ]
  },
  {
   "cell_type": "code",
   "execution_count": 22,
   "metadata": {},
   "outputs": [],
   "source": [
    "# Сохранение датасета в файл\n",
    "dataset.to_csv('msk_dataset.csv', sep = ';', index = False, encoding = 'cp1251')"
   ]
  },
  {
   "cell_type": "code",
   "execution_count": null,
   "metadata": {},
   "outputs": [],
   "source": []
  }
 ],
 "metadata": {
  "kernelspec": {
   "display_name": "Python 3",
   "language": "python",
   "name": "python3"
  },
  "language_info": {
   "codemirror_mode": {
    "name": "ipython",
    "version": 3
   },
   "file_extension": ".py",
   "mimetype": "text/x-python",
   "name": "python",
   "nbconvert_exporter": "python",
   "pygments_lexer": "ipython3",
   "version": "3.6.5"
  }
 },
 "nbformat": 4,
 "nbformat_minor": 2
}
